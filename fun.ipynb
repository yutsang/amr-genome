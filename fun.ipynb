{
 "cells": [
  {
   "cell_type": "code",
   "execution_count": 3,
   "metadata": {},
   "outputs": [
    {
     "ename": "NameError",
     "evalue": "name 'ax' is not defined",
     "output_type": "error",
     "traceback": [
      "\u001b[0;31m---------------------------------------------------------------------------\u001b[0m",
      "\u001b[0;31mNameError\u001b[0m                                 Traceback (most recent call last)",
      "Cell \u001b[0;32mIn[3], line 41\u001b[0m\n\u001b[1;32m     38\u001b[0m     ax\u001b[38;5;241m.\u001b[39madd_patch(Arrow(\u001b[38;5;241m4.\u001b[39m, \u001b[38;5;241m1.\u001b[39m, \u001b[38;5;241m.7\u001b[39m , \u001b[38;5;241m.01\u001b[39m))\n\u001b[1;32m     40\u001b[0m \u001b[38;5;66;03m# Set limits and remove axes for better visualization\u001b[39;00m\n\u001b[0;32m---> 41\u001b[0m \u001b[43max\u001b[49m\u001b[38;5;241m.\u001b[39mset_xlim()\n",
      "\u001b[0;31mNameError\u001b[0m: name 'ax' is not defined"
     ]
    }
   ],
   "source": [
    "import matplotlib.pyplot as plt\n",
    "from matplotlib.patches import FancyBboxPatch, Arrow\n",
    "\n",
    "def draw_diagram():\n",
    "    # Create figure and axis\n",
    "    fig, ax = plt.subplots(figsize=(10, 12))  # Adjusted figure size for better readability\n",
    "\n",
    "    # Input Embedding\n",
    "    ax.add_patch(FancyBboxPatch((1, 10), 3, 1.5, boxstyle=\"round,pad=0.3\", edgecolor=\"black\", facecolor=\"gold\"))\n",
    "    ax.text(2.5, 10.6, \"Input Embedding\", ha=\"center\", va=\"center\", fontsize=14)\n",
    "\n",
    "    # Tokenization\n",
    "    ax.add_patch(FancyBboxPatch((1, 8), 3, 1.5, boxstyle=\"round,pad=0.3\", edgecolor=\"black\", facecolor=\"lightblue\"))\n",
    "    ax.text(2.5, 8.6, \"Pretrained SentencePiece\\n(BPE, SPM)\", ha=\"center\", va=\"center\", fontsize=14)\n",
    "\n",
    "    # MLM + NSP Block\n",
    "    ax.add_patch(FancyBboxPatch((1, 5), 3, 2.5, boxstyle=\"round,pad=0.3\", edgecolor=\"black\", facecolor=\"lightyellow\"))\n",
    "    ax.text(2.5, 6.8, \"Masked Multi-head\\nAttention\", ha=\"center\", va=\"center\", fontsize=14)\n",
    "    ax.text(2.5, 6.0, \"Forward Feeding\", ha=\"center\", va=\"center\", fontsize=14)\n",
    "    ax.text(2.5, 5.4, \"(Foundation Model: MLM + NSP)\", ha=\"center\", va=\"center\", fontsize=12, color=\"orange\")\n",
    "\n",
    "    # Output Embedding\n",
    "    ax.add_patch(FancyBboxPatch((1, 3), 3, 1.5, boxstyle=\"round,pad=0.3\", edgecolor=\"black\", facecolor=\"gold\"))\n",
    "    ax.text(2.5, 3.6, \"Output Embedding\", ha=\"center\", va=\"center\", fontsize=14)\n",
    "\n",
    "    # Output Probability\n",
    "    ax.add_patch(FancyBboxPatch((1, 1), 3, 1.5, boxstyle=\"round,pad=0.3\", edgecolor=\"black\", facecolor=\"skyblue\"))\n",
    "    ax.text(2.5, 1.6, \"Output Probability\\n(SoftMax)\", ha=\"center\", va=\"center\", fontsize=14)\n",
    "\n",
    "    # Downstream Task (AMR Labeling)\n",
    "    ax.add_patch(FancyBboxPatch((6, 1), 3, 1.5, boxstyle=\"round,pad=0.3\", edgecolor=\"black\", facecolor=\"lightgreen\"))\n",
    "    ax.text(7.5, 1.6, \"Downstream Task\\n(AMR Labeling)\", ha=\"center\", va=\"center\", fontsize=14)\n",
    "\n",
    "    # Arrows\n",
    "    ax.add_patch(Arrow(2.5, 9.9, 0, -1.4, width=0.4))              # Input -> Tokenization\n",
    "    ax.add_patch(Arrow(2.5, 7.9, 0, -2.4, width=0.4))              # Tokenization -> MLM + NSP\n",
    "    ax.add_patch(Arrow(2.5, 4.9, 0, -1.4, width=0.4))              # MLM + NSP -> Output Embedding\n",
    "    ax.add_patch(Arrow(2.5, 2.9, 0, -1.4, width=0.4))              # Output Embedding -> Output Probability\n",
    "    ax.add_patch(Arrow(4., 1., .7 , .01))                         # Output Probability -> Downstream Task\n",
    "\n",
    "    # Set axis limits and remove axes for better visualization\n",
    "    ax.set_xlim(-1, 10)\n",
    "    ax.set_ylim(0, 12)\n",
    "    ax.axis('off')\n",
    "\n",
    "# Draw the diagram\n",
    "draw_diagram()\n",
    "plt.show()\n"
   ]
  }
 ],
 "metadata": {
  "kernelspec": {
   "display_name": "base",
   "language": "python",
   "name": "python3"
  },
  "language_info": {
   "codemirror_mode": {
    "name": "ipython",
    "version": 3
   },
   "file_extension": ".py",
   "mimetype": "text/x-python",
   "name": "python",
   "nbconvert_exporter": "python",
   "pygments_lexer": "ipython3",
   "version": "3.10.14"
  }
 },
 "nbformat": 4,
 "nbformat_minor": 2
}
